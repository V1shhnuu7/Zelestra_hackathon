{
 "cells": [
  {
   "cell_type": "code",
   "execution_count": 1,
   "id": "b5d10fc1-d73a-4715-8a5c-c8919eaf7a11",
   "metadata": {},
   "outputs": [],
   "source": [
    "import pandas as pd\n",
    "import numpy as np\n",
    "from sklearn.model_selection import train_test_split\n",
    "from sklearn.metrics import mean_squared_error\n",
    "from sklearn.impute import SimpleImputer\n",
    "from sklearn.preprocessing import LabelEncoder\n",
    "import lightgbm as lgb"
   ]
  },
  {
   "cell_type": "code",
   "execution_count": 2,
   "id": "f5e93275-8bce-4c0f-ae50-5d617c0a8002",
   "metadata": {},
   "outputs": [],
   "source": [
    "train = pd.read_csv(\"train.csv\")\n",
    "test = pd.read_csv(\"test.csv\")"
   ]
  },
  {
   "cell_type": "code",
   "execution_count": 3,
   "id": "1152a759-854a-4af6-8c2a-73eb6d1f5143",
   "metadata": {},
   "outputs": [],
   "source": [
    "X = train.drop(['efficiency', 'id'], axis=1)\n",
    "y = train['efficiency']\n",
    "X_test_final = test.drop('id', axis=1)\n",
    "test_ids = test['id']"
   ]
  },
  {
   "cell_type": "code",
   "execution_count": 4,
   "id": "0a4c6a6a-f3e6-481c-b5c8-69a1cb75b38c",
   "metadata": {},
   "outputs": [],
   "source": [
    "cols_to_convert = ['humidity', 'wind_speed', 'pressure']\n",
    "for col in cols_to_convert:\n",
    "    X[col] = pd.to_numeric(X[col], errors='coerce')\n",
    "    X_test_final[col] = pd.to_numeric(X_test_final[col], errors='coerce')"
   ]
  },
  {
   "cell_type": "code",
   "execution_count": 6,
   "id": "dbf3f745-190b-4b37-9bce-d9fce9ef82bc",
   "metadata": {},
   "outputs": [],
   "source": [
    "# Imputation\n",
    "num_imputer = SimpleImputer(strategy='mean')\n",
    "cat_imputer = SimpleImputer(strategy='constant', fill_value='Unknown')\n",
    "\n",
    "num_cols = X.select_dtypes(include=['int64', 'float64']).columns\n",
    "cat_cols = X.select_dtypes(include=['object']).columns\n",
    "\n",
    "X[num_cols] = num_imputer.fit_transform(X[num_cols])\n",
    "X_test_final[num_cols] = num_imputer.transform(X_test_final[num_cols])\n",
    "\n",
    "X[cat_cols] = cat_imputer.fit_transform(X[cat_cols])\n",
    "X_test_final[cat_cols] = cat_imputer.transform(X_test_final[cat_cols])"
   ]
  },
  {
   "cell_type": "code",
   "execution_count": 7,
   "id": "682df69b-3d68-4e6c-9849-ba3b6ff96fac",
   "metadata": {},
   "outputs": [],
   "source": [
    "# Label encode categorical features\n",
    "for col in cat_cols:\n",
    "    le = LabelEncoder()\n",
    "    X[col] = le.fit_transform(X[col])\n",
    "    X_test_final[col] = le.transform(X_test_final[col])"
   ]
  },
  {
   "cell_type": "code",
   "execution_count": 8,
   "id": "e9942240-e0bd-4c81-9b57-469d561f46a3",
   "metadata": {},
   "outputs": [],
   "source": [
    "# Feature Engineering\n",
    "X['temp_diff'] = X['module_temperature'] - X['temperature']\n",
    "X_test_final['temp_diff'] = X_test_final['module_temperature'] - X_test_final['temperature']\n",
    "\n",
    "X['irradiance_per_humidity'] = X['irradiance'] / (X['humidity'] + 1)\n",
    "X_test_final['irradiance_per_humidity'] = X_test_final['irradiance'] / (X_test_final['humidity'] + 1)\n",
    "\n",
    "X['age_squared'] = X['panel_age'] ** 2\n",
    "X_test_final['age_squared'] = X_test_final['panel_age'] ** 2\n",
    "\n",
    "X['wind_pressure_ratio'] = X['wind_speed'] / (X['pressure'] + 1)\n",
    "X_test_final['wind_pressure_ratio'] = X_test_final['wind_speed'] / (X_test_final['pressure'] + 1)\n",
    "\n",
    "X['cloud_irradiance'] = X['cloud_coverage'] * X['irradiance']\n",
    "X_test_final['cloud_irradiance'] = X_test_final['cloud_coverage'] * X_test_final['irradiance']\n"
   ]
  },
  {
   "cell_type": "code",
   "execution_count": 9,
   "id": "df45ae70-b7a4-4070-a6c2-1c39d83039f4",
   "metadata": {},
   "outputs": [],
   "source": [
    "# Split dataset\n",
    "X_train_split, X_val_split, y_train_split, y_val_split = train_test_split(X, y, test_size=0.2, random_state=42)"
   ]
  },
  {
   "cell_type": "code",
   "execution_count": null,
   "id": "4aaa5b98-bb82-4e12-bd1a-f9b0d00df851",
   "metadata": {},
   "outputs": [],
   "source": []
  }
 ],
 "metadata": {
  "kernelspec": {
   "display_name": "Python [conda env:base] *",
   "language": "python",
   "name": "conda-base-py"
  },
  "language_info": {
   "codemirror_mode": {
    "name": "ipython",
    "version": 3
   },
   "file_extension": ".py",
   "mimetype": "text/x-python",
   "name": "python",
   "nbconvert_exporter": "python",
   "pygments_lexer": "ipython3",
   "version": "3.12.7"
  }
 },
 "nbformat": 4,
 "nbformat_minor": 5
}
